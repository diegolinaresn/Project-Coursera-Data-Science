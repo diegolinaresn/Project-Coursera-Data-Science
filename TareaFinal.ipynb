{
 "cells": [
  {
   "cell_type": "markdown",
   "metadata": {},
   "source": [
    "## Tarea Final"
   ]
  },
  {
   "cell_type": "markdown",
   "metadata": {},
   "source": [
    "#   Introduction "
   ]
  },
  {
   "cell_type": "markdown",
   "metadata": {},
   "source": [
    "1.- Python 2.- R 3.- SQL 4.- Julia 5.-MATLAB"
   ]
  },
  {
   "cell_type": "markdown",
   "metadata": {},
   "source": [
    "1.- NumPy 2.- Pandas 3.- MatplotLib 4.- Sci0Kit-learn 5.-tensorflow"
   ]
  },
  {
   "cell_type": "markdown",
   "metadata": {},
   "source": [
    "Jupyter\n",
    "Colab\n",
    "Apache Spark\n",
    "Power BI\n",
    "Hadoop\n"
   ]
  },
  {
   "cell_type": "markdown",
   "metadata": {},
   "source": [
    "- **Addition:** `3 + 5` → Result: 8  \n",
    "- **Subtraction:** `10 - 4` → Result: 6  \n",
    "- **Multiplication:** `7 * 6` → Result: 42  \n",
    "- **Division:** `20 / 4` → Result: 5.0  \n",
    "- **Exponentiation:** `2 ** 3` → Result: 8  \n",
    "- **Modulus:** `10 % 3` → Result: 1  \n"
   ]
  },
  {
   "cell_type": "code",
   "execution_count": 8,
   "metadata": {},
   "outputs": [
    {
     "name": "stdout",
     "output_type": "stream",
     "text": [
      "20\n",
      "180\n",
      "200\n"
     ]
    }
   ],
   "source": [
    "a = 5\n",
    "b = 12\n",
    "c = 3\n",
    "\n",
    "sum = a + b + c\n",
    "mult = a * b * c\n",
    "print(sum)\n",
    "print(mult) \n",
    "print(sum + mult)\n",
    "\n"
   ]
  },
  {
   "cell_type": "code",
   "execution_count": 9,
   "metadata": {},
   "outputs": [
    {
     "name": "stdout",
     "output_type": "stream",
     "text": [
      "24.833333333333332\n"
     ]
    }
   ],
   "source": [
    "min = 1490\n",
    "hr = min / 60\n",
    "\n",
    "print(hr)\n"
   ]
  },
  {
   "cell_type": "code",
   "execution_count": null,
   "metadata": {},
   "outputs": [
    {
     "name": "stdout",
     "output_type": "stream",
     "text": [
      "Project Objectives:\n",
      "1. Understand the fundamentals of data science\n",
      "2. Learn to use libraries like Pandas and NumPy\n",
      "3. Apply data analysis to real-world problems\n",
      "4. Visualize data effectively\n",
      "5. Share results using notebooks\n"
     ]
    }
   ],
   "source": [
    "objectives = [\n",
    "    \"Understand the fundamentals of data science\",\n",
    "    \"Learn to use libraries like Pandas and NumPy\",\n",
    "    \"Apply data analysis to real-world problems\",\n",
    "    \"Visualize data effectively\",\n",
    "    \"Share results using notebooks\"\n",
    "]\n",
    "\n",
    "print(\"Project Objectives:\")\n",
    "for i, objective in enumerate(objectives, start=1):\n",
    "    print(f\"{i}. {objective}\")\n"
   ]
  },
  {
   "cell_type": "markdown",
   "metadata": {},
   "source": [
    "# Diego Patricio Linares Navarrete"
   ]
  }
 ],
 "metadata": {
  "kernelspec": {
   "display_name": "Python 3",
   "language": "python",
   "name": "python3"
  },
  "language_info": {
   "codemirror_mode": {
    "name": "ipython",
    "version": 3
   },
   "file_extension": ".py",
   "mimetype": "text/x-python",
   "name": "python",
   "nbconvert_exporter": "python",
   "pygments_lexer": "ipython3",
   "version": "3.11.9"
  }
 },
 "nbformat": 4,
 "nbformat_minor": 2
}
